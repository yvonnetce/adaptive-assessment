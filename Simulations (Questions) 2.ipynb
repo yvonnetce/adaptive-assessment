{
 "cells": [
  {
   "cell_type": "code",
   "execution_count": 11,
   "metadata": {},
   "outputs": [],
   "source": [
    "import trueskill\n",
    "import statistics\n",
    "import math\n",
    "import matplotlib.pyplot as plt\n",
    "import numpy as np\n",
    "import operator\n",
    "import copy\n",
    "import pickle\n",
    "with open('ratings.pkl', 'rb') as f:\n",
    "    ratings = pickle.load(f)\n",
    "with open('B_students.pkl', 'rb') as f:\n",
    "    B_students = pickle.load(f)\n",
    "with open('all_students.pkl', 'rb') as f:\n",
    "    all_students = pickle.load(f)"
   ]
  },
  {
   "cell_type": "code",
   "execution_count": 2,
   "metadata": {},
   "outputs": [
    {
     "data": {
      "text/plain": [
       "trueskill.TrueSkill(mu=25.000, sigma=8.333, beta=4.167, tau=0.000, draw_probability=0.0%)"
      ]
     },
     "execution_count": 2,
     "metadata": {},
     "output_type": "execute_result"
    }
   ],
   "source": [
    "mu=25.000\n",
    "sigma=8.333\n",
    "beta=4.167\n",
    "tau=0\n",
    "draw_probability=0\n",
    "trueskill.setup(mu=mu, sigma=sigma, beta=beta, tau=tau, draw_probability=draw_probability, backend=None)"
   ]
  },
  {
   "cell_type": "code",
   "execution_count": 3,
   "metadata": {},
   "outputs": [],
   "source": [
    "def win_probability(player1, player2):\n",
    "    \n",
    "    delta_mu = player1.mu - player2.mu\n",
    "    sum_sigma = player1.sigma ** 2 + player2.sigma ** 2\n",
    "    denom = math.sqrt(2 * (beta * beta) + sum_sigma)\n",
    "    ts = trueskill.global_env()\n",
    "    \n",
    "    return ts.cdf(delta_mu / denom)"
   ]
  },
  {
   "cell_type": "code",
   "execution_count": 4,
   "metadata": {},
   "outputs": [],
   "source": [
    "def select_best_student(question_rating, students):\n",
    "    \n",
    "    rating_difference = {}\n",
    "    \n",
    "    for student in students:\n",
    "        rating_difference[student] = abs(question_rating.mu - ratings[student].mu)\n",
    "        \n",
    "    best_student = min(rating_difference.items(), key = operator.itemgetter(1))[0]\n",
    "\n",
    "    return best_student"
   ]
  },
  {
   "cell_type": "code",
   "execution_count": 5,
   "metadata": {},
   "outputs": [],
   "source": [
    "def get_match_outcome(question, student):\n",
    "    \n",
    "    match_outcome = ()\n",
    "    \n",
    "    if np.random.uniform() <= win_probability(ratings[question], ratings[student]):\n",
    "        match_outcome = ('question', 'student')\n",
    "    else:\n",
    "        match_outcome = ('student', 'question')\n",
    "    \n",
    "    return match_outcome"
   ]
  },
  {
   "cell_type": "code",
   "execution_count": 6,
   "metadata": {},
   "outputs": [],
   "source": [
    "def get_ratings_convergence(question, students, num_students_ans):\n",
    "      \n",
    "    question_rating = trueskill.Rating()\n",
    "    question_rating_mu = [question_rating.mu]\n",
    "    rating_difference = []\n",
    "    student_bank = copy.deepcopy(students)\n",
    "                \n",
    "    for i in range(num_students_ans):\n",
    "        \n",
    "        best_student = select_best_student(question_rating, student_bank)\n",
    "        student_bank.remove(best_student)\n",
    "        \n",
    "        rating_difference.append(abs(question_rating.mu - ratings[best_student].mu))\n",
    "        \n",
    "        match_outcome = get_match_outcome(question, best_student)\n",
    "        \n",
    "        if match_outcome[0] == 'question':\n",
    "            question_rating, discard = trueskill.rate_1vs1(question_rating, ratings[best_student])\n",
    "        else:\n",
    "            discard, question_rating = trueskill.rate_1vs1(ratings[best_student], question_rating)\n",
    "    \n",
    "        question_rating_mu.append(question_rating.mu)\n",
    "    \n",
    "    return question_rating_mu, rating_difference"
   ]
  },
  {
   "cell_type": "code",
   "execution_count": 43,
   "metadata": {},
   "outputs": [],
   "source": [
    "def plot_convergence(question, students, num_students_ans):\n",
    "    \n",
    "    question_rating, rating_difference = get_ratings_convergence(question, students, num_students_ans)\n",
    "    num_students = list(range(len(question_rating)))\n",
    "    num_students_2 = list(range(len(question_rating)-1))\n",
    "    real_rating = ratings[question].mu\n",
    "    \n",
    "    plt.plot(num_students, question_rating, label = 'question rating')\n",
    "    # plt.plot(num_students_2, rating_difference, color = 'green', label = 'difference in student and question rating')\n",
    "    plt.axhline(y = real_rating, color = 'r', linestyle = '-')\n",
    "    plt.xlabel('No. of students who answered the question')\n",
    "    plt.ylabel('Rating of question')\n",
    "    # plt.title('True mu = ' + str(ratings[question].mu))\n",
    "    # plt.legend(loc = 'center')\n",
    "    plt.show\n",
    "    plt.savefig('graph.png')"
   ]
  },
  {
   "cell_type": "code",
   "execution_count": 47,
   "metadata": {
    "scrolled": true
   },
   "outputs": [
    {
     "data": {
      "image/png": "[encoded data removed]",
      "text/plain": [
       "<Figure size 432x288 with 1 Axes>"
      ]
     },
     "metadata": {},
     "output_type": "display_data"
    }
   ],
   "source": [
    "plot_convergence('L3C34', all_students, 100)"
   ]
  },
  {
   "cell_type": "code",
   "execution_count": null,
   "metadata": {},
   "outputs": [],
   "source": []
  }
 ],
 "metadata": {
  "kernelspec": {
   "display_name": "Python 3",
   "language": "python",
   "name": "python3"
  },
  "language_info": {
   "codemirror_mode": {
    "name": "ipython",
    "version": 3
   },
   "file_extension": ".py",
   "mimetype": "text/x-python",
   "name": "python",
   "nbconvert_exporter": "python",
   "pygments_lexer": "ipython3",
   "version": "3.6.5"
  }
 },
 "nbformat": 4,
 "nbformat_minor": 2
}
