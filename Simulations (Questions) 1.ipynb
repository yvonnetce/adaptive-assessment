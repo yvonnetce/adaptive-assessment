{
 "cells": [
  {
   "cell_type": "code",
   "execution_count": 2,
   "metadata": {},
   "outputs": [],
   "source": [
    "import trueskill\n",
    "import statistics\n",
    "import math\n",
    "import matplotlib.pyplot as plt\n",
    "import numpy as np\n",
    "import operator\n",
    "import copy\n",
    "import pickle\n",
    "from random import shuffle"
   ]
  },
  {
   "cell_type": "code",
   "execution_count": 3,
   "metadata": {},
   "outputs": [
    {
     "data": {
      "text/plain": [
       "trueskill.TrueSkill(mu=25.000, sigma=8.333, beta=4.167, tau=0.000, draw_probability=0.0%)"
      ]
     },
     "execution_count": 3,
     "metadata": {},
     "output_type": "execute_result"
    }
   ],
   "source": [
    "# set up trueskills global environment\n",
    "mu=25.000\n",
    "sigma=8.333\n",
    "beta=4.167\n",
    "tau=0\n",
    "draw_probability=0\n",
    "trueskill.setup(mu=mu, sigma=sigma, beta=beta, tau=tau, draw_probability=draw_probability, backend=None)"
   ]
  },
  {
   "cell_type": "code",
   "execution_count": 4,
   "metadata": {},
   "outputs": [],
   "source": [
    "def win_probability(player1, player2):\n",
    "\n",
    "    delta_mu = player1.mu - player2.mu\n",
    "    sum_sigma = player1.sigma ** 2 + player2.sigma ** 2\n",
    "    denom = math.sqrt(2 * (beta * beta) + sum_sigma)\n",
    "    ts = trueskill.global_env()\n",
    "    \n",
    "    return ts.cdf(delta_mu / denom)"
   ]
  },
  {
   "cell_type": "code",
   "execution_count": 5,
   "metadata": {},
   "outputs": [],
   "source": [
    "def create_student_ratings(n, mu_min, mu_max):\n",
    "    \n",
    "    n = n\n",
    "    mu_min = mu_min\n",
    "    mu_max = mu_max\n",
    "    student_ratings = {}\n",
    "    ind = 1\n",
    "    for i in range(1,n+1):\n",
    "        for j in range(3):\n",
    "            student_ratings[ind] = trueskill.Rating(mu = mu_min + (mu_max - mu_min)/n * i, sigma = j+1)\n",
    "            ind += 1\n",
    "            \n",
    "    return student_ratings"
   ]
  },
  {
   "cell_type": "code",
   "execution_count": 6,
   "metadata": {},
   "outputs": [],
   "source": [
    "def get_match_outcome(student_ratings, question_rating):\n",
    "    \n",
    "    match_outcome =[]\n",
    "    for student in student_ratings:\n",
    "        if np.random.uniform() <= win_probability(student_ratings[student], question_rating):\n",
    "            match_outcome.append((student, 'question'))\n",
    "        else:\n",
    "            match_outcome.append(('question', student))\n",
    "    \n",
    "    return match_outcome"
   ]
  },
  {
   "cell_type": "code",
   "execution_count": 7,
   "metadata": {},
   "outputs": [],
   "source": [
    "def plot_covergence(student_ratings, question_rating):\n",
    "    \n",
    "    match_outcome = get_match_outcome(student_ratings, question_rating)  \n",
    "    shuffle(match_outcome)\n",
    "    \n",
    "    simulation_rating = trueskill.Rating()\n",
    "    simulation_rating_mu = [simulation_rating.mu]\n",
    "\n",
    "    for match in match_outcome:\n",
    "        if match[0] == 'question':\n",
    "            simulation_rating, discard = trueskill.rate_1vs1(simulation_rating, student_ratings[match[1]])\n",
    "        else:\n",
    "            discard, simulation_rating = trueskill.rate_1vs1(student_ratings[match[0]], simulation_rating)\n",
    "    \n",
    "        simulation_rating_mu.append(simulation_rating.mu)\n",
    "    \n",
    "    number_of_matches = list(range(len(simulation_rating_mu)))\n",
    "    plt.plot(number_of_matches, simulation_rating_mu)\n",
    "    \n",
    "    real_rating = question_rating.mu\n",
    "    print(\"Actual question rating: \" + str(real_rating))\n",
    "    plt.axhline(y = real_rating, color = 'r', linestyle = '-')\n",
    "    plt.xlabel('No. of students who answered the question')\n",
    "    plt.ylabel('Rating of question')\n",
    "    plt.show  \n",
    "    plt.savefig('graph.png')"
   ]
  },
  {
   "cell_type": "code",
   "execution_count": 15,
   "metadata": {},
   "outputs": [
    {
     "name": "stdout",
     "output_type": "stream",
     "text": [
      "Actual question rating: 27.999999999999996\n"
     ]
    },
    {
     "data": {
      "image/png": "[encoded data removed]",
      "text/plain": [
       "<Figure size 432x288 with 1 Axes>"
      ]
     },
     "metadata": {},
     "output_type": "display_data"
    }
   ],
   "source": [
    "question_rating = trueskill.Rating(mu = 28, sigma = 1.5)\n",
    "student_ratings = create_student_ratings(100, 10, 30)\n",
    "plot_covergence(student_ratings, question_rating)"
   ]
  },
  {
   "cell_type": "markdown",
   "metadata": {},
   "source": [
    "## As you can see, whether we can converge to true question rating depends on ratings of the students, i.e the match quality. Ideally, the students pitted against the question should be dynamic; the rating of the students should be 'close' enough to the current rating of the question so that we can converge to the true rating."
   ]
  },
  {
   "cell_type": "code",
   "execution_count": null,
   "metadata": {},
   "outputs": [],
   "source": []
  }
 ],
 "metadata": {
  "kernelspec": {
   "display_name": "Python 3",
   "language": "python",
   "name": "python3"
  },
  "language_info": {
   "codemirror_mode": {
    "name": "ipython",
    "version": 3
   },
   "file_extension": ".py",
   "mimetype": "text/x-python",
   "name": "python",
   "nbconvert_exporter": "python",
   "pygments_lexer": "ipython3",
   "version": "3.6.5"
  }
 },
 "nbformat": 4,
 "nbformat_minor": 2
}
